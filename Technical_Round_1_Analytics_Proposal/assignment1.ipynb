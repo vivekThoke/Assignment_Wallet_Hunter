{
 "cells": [
  {
   "cell_type": "code",
   "execution_count": 43,
   "metadata": {},
   "outputs": [],
   "source": [
    "import pandas as pd\n",
    "import numpy as np\n",
    "from datetime import datetime, timedelta"
   ]
  },
  {
   "cell_type": "code",
   "execution_count": 145,
   "metadata": {},
   "outputs": [],
   "source": [
    "group_info_df = pd.read_csv('D:\\Data_Analyst\\Project_Assignment\\Technical_Round_1_Analytics_Proposal\\data\\group_info.csv')\n",
    "member_info_df = pd.read_csv('D:\\Data_Analyst\\Project_Assignment\\Technical_Round_1_Analytics_Proposal\\data\\member_info.csv')\n",
    "message_info_df = pd.read_csv('D:\\Data_Analyst\\Project_Assignment\\Technical_Round_1_Analytics_Proposal\\data\\message_info.csv')"
   ]
  },
  {
   "cell_type": "code",
   "execution_count": 47,
   "metadata": {},
   "outputs": [
    {
     "data": {
      "text/html": [
       "<div>\n",
       "<style scoped>\n",
       "    .dataframe tbody tr th:only-of-type {\n",
       "        vertical-align: middle;\n",
       "    }\n",
       "\n",
       "    .dataframe tbody tr th {\n",
       "        vertical-align: top;\n",
       "    }\n",
       "\n",
       "    .dataframe thead th {\n",
       "        text-align: right;\n",
       "    }\n",
       "</style>\n",
       "<table border=\"1\" class=\"dataframe\">\n",
       "  <thead>\n",
       "    <tr style=\"text-align: right;\">\n",
       "      <th></th>\n",
       "      <th>group_id</th>\n",
       "      <th>title</th>\n",
       "      <th>description</th>\n",
       "      <th>group_type</th>\n",
       "      <th>member_count</th>\n",
       "      <th>admin_count</th>\n",
       "      <th>number_of_bots</th>\n",
       "      <th>pinned_messages</th>\n",
       "      <th>pinned_messages_timestamp</th>\n",
       "      <th>visibility</th>\n",
       "    </tr>\n",
       "  </thead>\n",
       "  <tbody>\n",
       "    <tr>\n",
       "      <th>0</th>\n",
       "      <td>1</td>\n",
       "      <td>rich Group</td>\n",
       "      <td>Majority population example particular.</td>\n",
       "      <td>public</td>\n",
       "      <td>698.0</td>\n",
       "      <td>14.0</td>\n",
       "      <td>7.0</td>\n",
       "      <td>What trouble crime sport player.</td>\n",
       "      <td>NaN</td>\n",
       "      <td>public</td>\n",
       "    </tr>\n",
       "    <tr>\n",
       "      <th>1</th>\n",
       "      <td>2</td>\n",
       "      <td>continue Group</td>\n",
       "      <td>NaN</td>\n",
       "      <td>public</td>\n",
       "      <td>145.0</td>\n",
       "      <td>5.0</td>\n",
       "      <td>29.0</td>\n",
       "      <td>NaN</td>\n",
       "      <td>NaN</td>\n",
       "      <td>restricted</td>\n",
       "    </tr>\n",
       "    <tr>\n",
       "      <th>2</th>\n",
       "      <td>3</td>\n",
       "      <td>admit Group</td>\n",
       "      <td>Society section how prove event.</td>\n",
       "      <td>public</td>\n",
       "      <td>819.0</td>\n",
       "      <td>8.0</td>\n",
       "      <td>NaN</td>\n",
       "      <td>NaN</td>\n",
       "      <td>NaN</td>\n",
       "      <td>public</td>\n",
       "    </tr>\n",
       "    <tr>\n",
       "      <th>3</th>\n",
       "      <td>4</td>\n",
       "      <td>thus Group</td>\n",
       "      <td>Doctor deep particularly eat.</td>\n",
       "      <td>private</td>\n",
       "      <td>367.0</td>\n",
       "      <td>12.0</td>\n",
       "      <td>40.0</td>\n",
       "      <td>Run always be cup marriage friend.</td>\n",
       "      <td>NaN</td>\n",
       "      <td>restricted</td>\n",
       "    </tr>\n",
       "    <tr>\n",
       "      <th>4</th>\n",
       "      <td>5</td>\n",
       "      <td>Congress Group</td>\n",
       "      <td>Reflect ball religious from head social.</td>\n",
       "      <td>private</td>\n",
       "      <td>253.0</td>\n",
       "      <td>5.0</td>\n",
       "      <td>1.0</td>\n",
       "      <td>Skill state protect your increase right.</td>\n",
       "      <td>NaN</td>\n",
       "      <td>public</td>\n",
       "    </tr>\n",
       "    <tr>\n",
       "      <th>...</th>\n",
       "      <td>...</td>\n",
       "      <td>...</td>\n",
       "      <td>...</td>\n",
       "      <td>...</td>\n",
       "      <td>...</td>\n",
       "      <td>...</td>\n",
       "      <td>...</td>\n",
       "      <td>...</td>\n",
       "      <td>...</td>\n",
       "      <td>...</td>\n",
       "    </tr>\n",
       "    <tr>\n",
       "      <th>195</th>\n",
       "      <td>196</td>\n",
       "      <td>case Group</td>\n",
       "      <td>Some stage everybody eye commercial available ...</td>\n",
       "      <td>public</td>\n",
       "      <td>280.0</td>\n",
       "      <td>4.0</td>\n",
       "      <td>32.0</td>\n",
       "      <td>Build wall bring he go mother buy.</td>\n",
       "      <td>2024-10-05 17:22:53</td>\n",
       "      <td>public</td>\n",
       "    </tr>\n",
       "    <tr>\n",
       "      <th>196</th>\n",
       "      <td>197</td>\n",
       "      <td>use Group</td>\n",
       "      <td>Morning weight first discussion popular.</td>\n",
       "      <td>private</td>\n",
       "      <td>980.0</td>\n",
       "      <td>2.0</td>\n",
       "      <td>23.0</td>\n",
       "      <td>NaN</td>\n",
       "      <td>NaN</td>\n",
       "      <td>public</td>\n",
       "    </tr>\n",
       "    <tr>\n",
       "      <th>197</th>\n",
       "      <td>198</td>\n",
       "      <td>source Group</td>\n",
       "      <td>NaN</td>\n",
       "      <td>public</td>\n",
       "      <td>195.0</td>\n",
       "      <td>6.0</td>\n",
       "      <td>13.0</td>\n",
       "      <td>NaN</td>\n",
       "      <td>2024-06-03 18:25:57</td>\n",
       "      <td>restricted</td>\n",
       "    </tr>\n",
       "    <tr>\n",
       "      <th>198</th>\n",
       "      <td>199</td>\n",
       "      <td>kind Group</td>\n",
       "      <td>Politics both create keep.</td>\n",
       "      <td>public</td>\n",
       "      <td>NaN</td>\n",
       "      <td>11.0</td>\n",
       "      <td>49.0</td>\n",
       "      <td>NaN</td>\n",
       "      <td>NaN</td>\n",
       "      <td>public</td>\n",
       "    </tr>\n",
       "    <tr>\n",
       "      <th>199</th>\n",
       "      <td>200</td>\n",
       "      <td>improve Group</td>\n",
       "      <td>Low one spring.</td>\n",
       "      <td>private</td>\n",
       "      <td>364.0</td>\n",
       "      <td>7.0</td>\n",
       "      <td>14.0</td>\n",
       "      <td>NaN</td>\n",
       "      <td>NaN</td>\n",
       "      <td>NaN</td>\n",
       "    </tr>\n",
       "  </tbody>\n",
       "</table>\n",
       "<p>200 rows × 10 columns</p>\n",
       "</div>"
      ],
      "text/plain": [
       "     group_id           title  \\\n",
       "0           1      rich Group   \n",
       "1           2  continue Group   \n",
       "2           3     admit Group   \n",
       "3           4      thus Group   \n",
       "4           5  Congress Group   \n",
       "..        ...             ...   \n",
       "195       196      case Group   \n",
       "196       197       use Group   \n",
       "197       198    source Group   \n",
       "198       199      kind Group   \n",
       "199       200   improve Group   \n",
       "\n",
       "                                           description group_type  \\\n",
       "0              Majority population example particular.     public   \n",
       "1                                                  NaN     public   \n",
       "2                     Society section how prove event.     public   \n",
       "3                        Doctor deep particularly eat.    private   \n",
       "4             Reflect ball religious from head social.    private   \n",
       "..                                                 ...        ...   \n",
       "195  Some stage everybody eye commercial available ...     public   \n",
       "196           Morning weight first discussion popular.    private   \n",
       "197                                                NaN     public   \n",
       "198                         Politics both create keep.     public   \n",
       "199                                    Low one spring.    private   \n",
       "\n",
       "     member_count  admin_count  number_of_bots  \\\n",
       "0           698.0         14.0             7.0   \n",
       "1           145.0          5.0            29.0   \n",
       "2           819.0          8.0             NaN   \n",
       "3           367.0         12.0            40.0   \n",
       "4           253.0          5.0             1.0   \n",
       "..            ...          ...             ...   \n",
       "195         280.0          4.0            32.0   \n",
       "196         980.0          2.0            23.0   \n",
       "197         195.0          6.0            13.0   \n",
       "198           NaN         11.0            49.0   \n",
       "199         364.0          7.0            14.0   \n",
       "\n",
       "                              pinned_messages pinned_messages_timestamp  \\\n",
       "0            What trouble crime sport player.                       NaN   \n",
       "1                                         NaN                       NaN   \n",
       "2                                         NaN                       NaN   \n",
       "3          Run always be cup marriage friend.                       NaN   \n",
       "4    Skill state protect your increase right.                       NaN   \n",
       "..                                        ...                       ...   \n",
       "195        Build wall bring he go mother buy.       2024-10-05 17:22:53   \n",
       "196                                       NaN                       NaN   \n",
       "197                                       NaN       2024-06-03 18:25:57   \n",
       "198                                       NaN                       NaN   \n",
       "199                                       NaN                       NaN   \n",
       "\n",
       "     visibility  \n",
       "0        public  \n",
       "1    restricted  \n",
       "2        public  \n",
       "3    restricted  \n",
       "4        public  \n",
       "..          ...  \n",
       "195      public  \n",
       "196      public  \n",
       "197  restricted  \n",
       "198      public  \n",
       "199         NaN  \n",
       "\n",
       "[200 rows x 10 columns]"
      ]
     },
     "execution_count": 47,
     "metadata": {},
     "output_type": "execute_result"
    }
   ],
   "source": [
    "group_info_df"
   ]
  },
  {
   "cell_type": "code",
   "execution_count": 48,
   "metadata": {},
   "outputs": [
    {
     "data": {
      "text/html": [
       "<div>\n",
       "<style scoped>\n",
       "    .dataframe tbody tr th:only-of-type {\n",
       "        vertical-align: middle;\n",
       "    }\n",
       "\n",
       "    .dataframe tbody tr th {\n",
       "        vertical-align: top;\n",
       "    }\n",
       "\n",
       "    .dataframe thead th {\n",
       "        text-align: right;\n",
       "    }\n",
       "</style>\n",
       "<table border=\"1\" class=\"dataframe\">\n",
       "  <thead>\n",
       "    <tr style=\"text-align: right;\">\n",
       "      <th></th>\n",
       "      <th>user_id</th>\n",
       "      <th>username</th>\n",
       "      <th>first_name</th>\n",
       "      <th>last_name</th>\n",
       "      <th>is_bot</th>\n",
       "      <th>role</th>\n",
       "      <th>join_date</th>\n",
       "      <th>group_id</th>\n",
       "    </tr>\n",
       "  </thead>\n",
       "  <tbody>\n",
       "    <tr>\n",
       "      <th>0</th>\n",
       "      <td>1</td>\n",
       "      <td>alynch</td>\n",
       "      <td>Jonathan</td>\n",
       "      <td>Baker</td>\n",
       "      <td>True</td>\n",
       "      <td>moderator</td>\n",
       "      <td>2025-01-10T02:01:49</td>\n",
       "      <td>100</td>\n",
       "    </tr>\n",
       "    <tr>\n",
       "      <th>1</th>\n",
       "      <td>2</td>\n",
       "      <td>teresawhite</td>\n",
       "      <td>Russell</td>\n",
       "      <td>Galvan</td>\n",
       "      <td>True</td>\n",
       "      <td>admin</td>\n",
       "      <td>2025-01-05T20:00:58</td>\n",
       "      <td>173</td>\n",
       "    </tr>\n",
       "    <tr>\n",
       "      <th>2</th>\n",
       "      <td>3</td>\n",
       "      <td>marshallwilliam</td>\n",
       "      <td>Christina</td>\n",
       "      <td>Holt</td>\n",
       "      <td>True</td>\n",
       "      <td>moderator</td>\n",
       "      <td>2025-01-18T17:58:22</td>\n",
       "      <td>31</td>\n",
       "    </tr>\n",
       "    <tr>\n",
       "      <th>3</th>\n",
       "      <td>4</td>\n",
       "      <td>vegakaren</td>\n",
       "      <td>Lori</td>\n",
       "      <td>Miles</td>\n",
       "      <td>False</td>\n",
       "      <td>member</td>\n",
       "      <td>2025-01-06T12:19:02</td>\n",
       "      <td>137</td>\n",
       "    </tr>\n",
       "    <tr>\n",
       "      <th>4</th>\n",
       "      <td>5</td>\n",
       "      <td>pshah</td>\n",
       "      <td>Autumn</td>\n",
       "      <td>Allen</td>\n",
       "      <td>False</td>\n",
       "      <td>member</td>\n",
       "      <td>2025-01-16T07:42:26</td>\n",
       "      <td>2</td>\n",
       "    </tr>\n",
       "    <tr>\n",
       "      <th>...</th>\n",
       "      <td>...</td>\n",
       "      <td>...</td>\n",
       "      <td>...</td>\n",
       "      <td>...</td>\n",
       "      <td>...</td>\n",
       "      <td>...</td>\n",
       "      <td>...</td>\n",
       "      <td>...</td>\n",
       "    </tr>\n",
       "    <tr>\n",
       "      <th>995</th>\n",
       "      <td>996</td>\n",
       "      <td>omorris</td>\n",
       "      <td>Kelly</td>\n",
       "      <td>Obrien</td>\n",
       "      <td>True</td>\n",
       "      <td>moderator</td>\n",
       "      <td>2025-01-23T06:17:06</td>\n",
       "      <td>70</td>\n",
       "    </tr>\n",
       "    <tr>\n",
       "      <th>996</th>\n",
       "      <td>997</td>\n",
       "      <td>joshua34</td>\n",
       "      <td>Carolyn</td>\n",
       "      <td>Lucas</td>\n",
       "      <td>False</td>\n",
       "      <td>member</td>\n",
       "      <td>2025-01-27T05:40:12</td>\n",
       "      <td>180</td>\n",
       "    </tr>\n",
       "    <tr>\n",
       "      <th>997</th>\n",
       "      <td>998</td>\n",
       "      <td>hartjeffrey</td>\n",
       "      <td>Joseph</td>\n",
       "      <td>Lee</td>\n",
       "      <td>True</td>\n",
       "      <td>member</td>\n",
       "      <td>2025-01-29T03:46:51</td>\n",
       "      <td>160</td>\n",
       "    </tr>\n",
       "    <tr>\n",
       "      <th>998</th>\n",
       "      <td>999</td>\n",
       "      <td>mblackwell</td>\n",
       "      <td>Jason</td>\n",
       "      <td>Ford</td>\n",
       "      <td>False</td>\n",
       "      <td>member</td>\n",
       "      <td>2025-01-04T23:17:03</td>\n",
       "      <td>126</td>\n",
       "    </tr>\n",
       "    <tr>\n",
       "      <th>999</th>\n",
       "      <td>1000</td>\n",
       "      <td>smithdavid</td>\n",
       "      <td>Luke</td>\n",
       "      <td>Jones</td>\n",
       "      <td>True</td>\n",
       "      <td>admin</td>\n",
       "      <td>2025-01-26T05:28:18</td>\n",
       "      <td>49</td>\n",
       "    </tr>\n",
       "  </tbody>\n",
       "</table>\n",
       "<p>1000 rows × 8 columns</p>\n",
       "</div>"
      ],
      "text/plain": [
       "     user_id         username first_name last_name  is_bot       role  \\\n",
       "0          1           alynch   Jonathan     Baker    True  moderator   \n",
       "1          2      teresawhite    Russell    Galvan    True      admin   \n",
       "2          3  marshallwilliam  Christina      Holt    True  moderator   \n",
       "3          4        vegakaren       Lori     Miles   False     member   \n",
       "4          5            pshah     Autumn     Allen   False     member   \n",
       "..       ...              ...        ...       ...     ...        ...   \n",
       "995      996          omorris      Kelly    Obrien    True  moderator   \n",
       "996      997         joshua34    Carolyn     Lucas   False     member   \n",
       "997      998      hartjeffrey     Joseph       Lee    True     member   \n",
       "998      999       mblackwell      Jason      Ford   False     member   \n",
       "999     1000       smithdavid       Luke     Jones    True      admin   \n",
       "\n",
       "               join_date  group_id  \n",
       "0    2025-01-10T02:01:49       100  \n",
       "1    2025-01-05T20:00:58       173  \n",
       "2    2025-01-18T17:58:22        31  \n",
       "3    2025-01-06T12:19:02       137  \n",
       "4    2025-01-16T07:42:26         2  \n",
       "..                   ...       ...  \n",
       "995  2025-01-23T06:17:06        70  \n",
       "996  2025-01-27T05:40:12       180  \n",
       "997  2025-01-29T03:46:51       160  \n",
       "998  2025-01-04T23:17:03       126  \n",
       "999  2025-01-26T05:28:18        49  \n",
       "\n",
       "[1000 rows x 8 columns]"
      ]
     },
     "execution_count": 48,
     "metadata": {},
     "output_type": "execute_result"
    }
   ],
   "source": [
    "member_info_df"
   ]
  },
  {
   "cell_type": "code",
   "execution_count": 49,
   "metadata": {},
   "outputs": [
    {
     "data": {
      "text/html": [
       "<div>\n",
       "<style scoped>\n",
       "    .dataframe tbody tr th:only-of-type {\n",
       "        vertical-align: middle;\n",
       "    }\n",
       "\n",
       "    .dataframe tbody tr th {\n",
       "        vertical-align: top;\n",
       "    }\n",
       "\n",
       "    .dataframe thead th {\n",
       "        text-align: right;\n",
       "    }\n",
       "</style>\n",
       "<table border=\"1\" class=\"dataframe\">\n",
       "  <thead>\n",
       "    <tr style=\"text-align: right;\">\n",
       "      <th></th>\n",
       "      <th>message_id</th>\n",
       "      <th>sender_id</th>\n",
       "      <th>timestamp</th>\n",
       "      <th>message_type</th>\n",
       "      <th>text</th>\n",
       "      <th>media_links</th>\n",
       "      <th>hashtags</th>\n",
       "      <th>urls</th>\n",
       "      <th>replies</th>\n",
       "      <th>views</th>\n",
       "      <th>forwards</th>\n",
       "      <th>sender_name</th>\n",
       "      <th>sender_username</th>\n",
       "      <th>group_id</th>\n",
       "    </tr>\n",
       "  </thead>\n",
       "  <tbody>\n",
       "    <tr>\n",
       "      <th>0</th>\n",
       "      <td>1</td>\n",
       "      <td>329</td>\n",
       "      <td>2025-01-02T18:24:46</td>\n",
       "      <td>text</td>\n",
       "      <td>Hope recognize quality billion cover must.</td>\n",
       "      <td>NaN</td>\n",
       "      <td>['evening']</td>\n",
       "      <td>['https://www.matthews.com/']</td>\n",
       "      <td>5</td>\n",
       "      <td>1021</td>\n",
       "      <td>8</td>\n",
       "      <td>Mr. Jesus Jones</td>\n",
       "      <td>hwhite</td>\n",
       "      <td>69</td>\n",
       "    </tr>\n",
       "    <tr>\n",
       "      <th>1</th>\n",
       "      <td>2</td>\n",
       "      <td>20</td>\n",
       "      <td>2025-01-15T18:22:35</td>\n",
       "      <td>text</td>\n",
       "      <td>Themselves in out save project.</td>\n",
       "      <td>NaN</td>\n",
       "      <td>['church']</td>\n",
       "      <td>[]</td>\n",
       "      <td>48</td>\n",
       "      <td>4088</td>\n",
       "      <td>86</td>\n",
       "      <td>Carlos Buchanan</td>\n",
       "      <td>feliciaodonnell</td>\n",
       "      <td>177</td>\n",
       "    </tr>\n",
       "    <tr>\n",
       "      <th>2</th>\n",
       "      <td>3</td>\n",
       "      <td>156</td>\n",
       "      <td>2025-01-03T11:14:41</td>\n",
       "      <td>text</td>\n",
       "      <td>Painting serve table feel open black despite.</td>\n",
       "      <td>NaN</td>\n",
       "      <td>['task', 'soon', 'near']</td>\n",
       "      <td>['http://www.salazar.com/']</td>\n",
       "      <td>27</td>\n",
       "      <td>3735</td>\n",
       "      <td>107</td>\n",
       "      <td>Jacob Campos</td>\n",
       "      <td>john03</td>\n",
       "      <td>54</td>\n",
       "    </tr>\n",
       "    <tr>\n",
       "      <th>3</th>\n",
       "      <td>4</td>\n",
       "      <td>51</td>\n",
       "      <td>2025-01-05T08:04:30</td>\n",
       "      <td>sticker</td>\n",
       "      <td>Door see human thing from view.</td>\n",
       "      <td>NaN</td>\n",
       "      <td>['natural']</td>\n",
       "      <td>['https://www.wang.info/']</td>\n",
       "      <td>15</td>\n",
       "      <td>3391</td>\n",
       "      <td>66</td>\n",
       "      <td>Scott Cuevas</td>\n",
       "      <td>nosborne</td>\n",
       "      <td>194</td>\n",
       "    </tr>\n",
       "    <tr>\n",
       "      <th>4</th>\n",
       "      <td>5</td>\n",
       "      <td>993</td>\n",
       "      <td>2025-01-20T23:41:21</td>\n",
       "      <td>link</td>\n",
       "      <td>Eat head cost customer.</td>\n",
       "      <td>NaN</td>\n",
       "      <td>['mother']</td>\n",
       "      <td>['http://www.morris.com/']</td>\n",
       "      <td>39</td>\n",
       "      <td>3361</td>\n",
       "      <td>51</td>\n",
       "      <td>Aaron Garcia</td>\n",
       "      <td>kimberly63</td>\n",
       "      <td>144</td>\n",
       "    </tr>\n",
       "    <tr>\n",
       "      <th>...</th>\n",
       "      <td>...</td>\n",
       "      <td>...</td>\n",
       "      <td>...</td>\n",
       "      <td>...</td>\n",
       "      <td>...</td>\n",
       "      <td>...</td>\n",
       "      <td>...</td>\n",
       "      <td>...</td>\n",
       "      <td>...</td>\n",
       "      <td>...</td>\n",
       "      <td>...</td>\n",
       "      <td>...</td>\n",
       "      <td>...</td>\n",
       "      <td>...</td>\n",
       "    </tr>\n",
       "    <tr>\n",
       "      <th>995</th>\n",
       "      <td>996</td>\n",
       "      <td>729</td>\n",
       "      <td>2025-01-01T15:03:25</td>\n",
       "      <td>media</td>\n",
       "      <td>Land building some be performance possible see.</td>\n",
       "      <td>NaN</td>\n",
       "      <td>['probably', 'which']</td>\n",
       "      <td>['https://smith.com/']</td>\n",
       "      <td>23</td>\n",
       "      <td>908</td>\n",
       "      <td>176</td>\n",
       "      <td>Anthony Novak</td>\n",
       "      <td>cathy84</td>\n",
       "      <td>159</td>\n",
       "    </tr>\n",
       "    <tr>\n",
       "      <th>996</th>\n",
       "      <td>997</td>\n",
       "      <td>816</td>\n",
       "      <td>2025-01-18T16:00:43</td>\n",
       "      <td>text</td>\n",
       "      <td>Activity late stock carry.</td>\n",
       "      <td>NaN</td>\n",
       "      <td>['young', 'every', 'feel']</td>\n",
       "      <td>['https://shepherd.biz/']</td>\n",
       "      <td>1</td>\n",
       "      <td>4774</td>\n",
       "      <td>144</td>\n",
       "      <td>William Smith</td>\n",
       "      <td>jeffreysullivan</td>\n",
       "      <td>58</td>\n",
       "    </tr>\n",
       "    <tr>\n",
       "      <th>997</th>\n",
       "      <td>998</td>\n",
       "      <td>168</td>\n",
       "      <td>2025-01-07T05:03:30</td>\n",
       "      <td>link</td>\n",
       "      <td>Organization none current safe fire difficult.</td>\n",
       "      <td>NaN</td>\n",
       "      <td>[]</td>\n",
       "      <td>['https://combs-king.com/']</td>\n",
       "      <td>19</td>\n",
       "      <td>3858</td>\n",
       "      <td>153</td>\n",
       "      <td>Angela Roth</td>\n",
       "      <td>sarahhill</td>\n",
       "      <td>36</td>\n",
       "    </tr>\n",
       "    <tr>\n",
       "      <th>998</th>\n",
       "      <td>999</td>\n",
       "      <td>736</td>\n",
       "      <td>2025-01-08T21:19:22</td>\n",
       "      <td>text</td>\n",
       "      <td>Writer development world impact change low hea...</td>\n",
       "      <td>http://www.ware.org/</td>\n",
       "      <td>['able', 'medical']</td>\n",
       "      <td>['https://www.ritter.info/']</td>\n",
       "      <td>19</td>\n",
       "      <td>2154</td>\n",
       "      <td>104</td>\n",
       "      <td>Eric Beasley</td>\n",
       "      <td>tranmichelle</td>\n",
       "      <td>157</td>\n",
       "    </tr>\n",
       "    <tr>\n",
       "      <th>999</th>\n",
       "      <td>1000</td>\n",
       "      <td>751</td>\n",
       "      <td>2025-01-10T20:42:38</td>\n",
       "      <td>sticker</td>\n",
       "      <td>Begin pay new read painting just choice.</td>\n",
       "      <td>NaN</td>\n",
       "      <td>['actually', 'show', 'arm']</td>\n",
       "      <td>['http://www.phillips.com/']</td>\n",
       "      <td>32</td>\n",
       "      <td>245</td>\n",
       "      <td>1</td>\n",
       "      <td>Laura Smith</td>\n",
       "      <td>gonzalezangela</td>\n",
       "      <td>159</td>\n",
       "    </tr>\n",
       "  </tbody>\n",
       "</table>\n",
       "<p>1000 rows × 14 columns</p>\n",
       "</div>"
      ],
      "text/plain": [
       "     message_id  sender_id            timestamp message_type  \\\n",
       "0             1        329  2025-01-02T18:24:46         text   \n",
       "1             2         20  2025-01-15T18:22:35         text   \n",
       "2             3        156  2025-01-03T11:14:41         text   \n",
       "3             4         51  2025-01-05T08:04:30      sticker   \n",
       "4             5        993  2025-01-20T23:41:21         link   \n",
       "..          ...        ...                  ...          ...   \n",
       "995         996        729  2025-01-01T15:03:25        media   \n",
       "996         997        816  2025-01-18T16:00:43         text   \n",
       "997         998        168  2025-01-07T05:03:30         link   \n",
       "998         999        736  2025-01-08T21:19:22         text   \n",
       "999        1000        751  2025-01-10T20:42:38      sticker   \n",
       "\n",
       "                                                  text           media_links  \\\n",
       "0           Hope recognize quality billion cover must.                   NaN   \n",
       "1                      Themselves in out save project.                   NaN   \n",
       "2        Painting serve table feel open black despite.                   NaN   \n",
       "3                      Door see human thing from view.                   NaN   \n",
       "4                              Eat head cost customer.                   NaN   \n",
       "..                                                 ...                   ...   \n",
       "995    Land building some be performance possible see.                   NaN   \n",
       "996                         Activity late stock carry.                   NaN   \n",
       "997     Organization none current safe fire difficult.                   NaN   \n",
       "998  Writer development world impact change low hea...  http://www.ware.org/   \n",
       "999           Begin pay new read painting just choice.                   NaN   \n",
       "\n",
       "                        hashtags                           urls  replies  \\\n",
       "0                    ['evening']  ['https://www.matthews.com/']        5   \n",
       "1                     ['church']                             []       48   \n",
       "2       ['task', 'soon', 'near']    ['http://www.salazar.com/']       27   \n",
       "3                    ['natural']     ['https://www.wang.info/']       15   \n",
       "4                     ['mother']     ['http://www.morris.com/']       39   \n",
       "..                           ...                            ...      ...   \n",
       "995        ['probably', 'which']         ['https://smith.com/']       23   \n",
       "996   ['young', 'every', 'feel']      ['https://shepherd.biz/']        1   \n",
       "997                           []    ['https://combs-king.com/']       19   \n",
       "998          ['able', 'medical']   ['https://www.ritter.info/']       19   \n",
       "999  ['actually', 'show', 'arm']   ['http://www.phillips.com/']       32   \n",
       "\n",
       "     views  forwards      sender_name  sender_username  group_id  \n",
       "0     1021         8  Mr. Jesus Jones           hwhite        69  \n",
       "1     4088        86  Carlos Buchanan  feliciaodonnell       177  \n",
       "2     3735       107     Jacob Campos           john03        54  \n",
       "3     3391        66     Scott Cuevas         nosborne       194  \n",
       "4     3361        51     Aaron Garcia       kimberly63       144  \n",
       "..     ...       ...              ...              ...       ...  \n",
       "995    908       176    Anthony Novak          cathy84       159  \n",
       "996   4774       144    William Smith  jeffreysullivan        58  \n",
       "997   3858       153      Angela Roth        sarahhill        36  \n",
       "998   2154       104     Eric Beasley     tranmichelle       157  \n",
       "999    245         1      Laura Smith   gonzalezangela       159  \n",
       "\n",
       "[1000 rows x 14 columns]"
      ]
     },
     "execution_count": 49,
     "metadata": {},
     "output_type": "execute_result"
    }
   ],
   "source": [
    "message_info_df"
   ]
  },
  {
   "cell_type": "markdown",
   "metadata": {},
   "source": [
    "## Analytics for Group Data\n",
    "\n",
    "### 1. Group Type Distribution\n",
    "**Description:** Count the occurrences of each group type (public, private, etc.) within the dataset to understand the distribution of group privacy settings."
   ]
  },
  {
   "cell_type": "code",
   "execution_count": 50,
   "metadata": {},
   "outputs": [
    {
     "name": "stdout",
     "output_type": "stream",
     "text": [
      "Occurrence of each group type (public, private, etc): group_type\n",
      "public     100\n",
      "private    100\n",
      "Name: count, dtype: int64\n"
     ]
    }
   ],
   "source": [
    "group_type_distribution = group_info_df['group_type'].value_counts()\n",
    "print(\"Occurrence of each group type (public, private, etc):\", group_type_distribution)"
   ]
  },
  {
   "cell_type": "markdown",
   "metadata": {},
   "source": [
    "### 2. Average Member Count\n",
    "**Description:** Calculate the mean of the 'member_count' column to determine the average size of groups.\n"
   ]
  },
  {
   "cell_type": "code",
   "execution_count": 51,
   "metadata": {},
   "outputs": [
    {
     "name": "stdout",
     "output_type": "stream",
     "text": [
      "Average memeber count of group: 504\n"
     ]
    }
   ],
   "source": [
    "average_member_count = round(group_info_df['member_count'].mean())\n",
    "print(\"Average memeber count of group:\", average_member_count)"
   ]
  },
  {
   "cell_type": "markdown",
   "metadata": {},
   "source": [
    "### 3. Admin to Member Ratio\n",
    "**Description:** Divide the number of administrators by the number of members for each group to assess the management structure."
   ]
  },
  {
   "cell_type": "code",
   "execution_count": 52,
   "metadata": {},
   "outputs": [
    {
     "name": "stdout",
     "output_type": "stream",
     "text": [
      "Higehest admin to memebers ratio:\n",
      "      group_id         title  admin_to_member_ratio\n",
      "13         14    rule Group                  23.64\n",
      "103       104   state Group                  22.58\n",
      "90         91     law Group                  15.79\n",
      "120       121    wish Group                  13.92\n",
      "187       188  option Group                  10.84\n"
     ]
    }
   ],
   "source": [
    "group_info_df['admin_to_member_ratio'] = round((group_info_df['admin_count'] / group_info_df['member_count']) * 100, 2)\n",
    "highest_admin_to_member_ratio = group_info_df[['group_id', \"title\", 'admin_to_member_ratio']]\n",
    "print(\"Higehest admin to memebers ratio:\\n\", highest_admin_to_member_ratio.sort_values(by=[\"admin_to_member_ratio\"], ascending=False).head(5))"
   ]
  },
  {
   "cell_type": "code",
   "execution_count": 53,
   "metadata": {},
   "outputs": [
    {
     "name": "stdout",
     "output_type": "stream",
     "text": [
      "Lowest admin to memebers ratio:\n",
      "      group_id            title  admin_to_member_ratio\n",
      "9          10  operation Group                   0.14\n",
      "146       147     simple Group                   0.18\n",
      "107       108         no Group                   0.19\n",
      "118       119     happen Group                   0.19\n",
      "196       197        use Group                   0.20\n"
     ]
    }
   ],
   "source": [
    "group_info_df['admin_to_member_ratio'] = round((group_info_df['admin_count'] / group_info_df['member_count']) * 100, 2)\n",
    "lowest_admin_to_member_ratio = group_info_df[['group_id', \"title\", 'admin_to_member_ratio']]\n",
    "print(\"Lowest admin to memebers ratio:\\n\", highest_admin_to_member_ratio.sort_values(by=[\"admin_to_member_ratio\"], ascending=True).head(5))"
   ]
  },
  {
   "cell_type": "markdown",
   "metadata": {},
   "source": [
    "### 4. Bot Presence Analysis\n",
    "**Description:** Calculate the proportion of bots to human members in each group to evaluate the level of automation."
   ]
  },
  {
   "cell_type": "code",
   "execution_count": 54,
   "metadata": {},
   "outputs": [
    {
     "name": "stdout",
     "output_type": "stream",
     "text": [
      "Highest bot to human memebers in group:\n",
      "      group_id            title  bot_presence\n",
      "46         47  agreement Group         58.57\n",
      "103       104      state Group         53.23\n",
      "120       121       wish Group         45.57\n",
      "116       117   southern Group         34.06\n",
      "76         77    usually Group         32.50\n"
     ]
    }
   ],
   "source": [
    "group_info_df['bot_presence'] = round(group_info_df['number_of_bots'] / group_info_df['member_count'] * 100, 2) \n",
    "highest_bot_to_human = group_info_df[['group_id', \"title\", 'bot_presence']]\n",
    "print(\"Highest bot to human memebers in group:\\n\", highest_bot_to_human.sort_values(by=[\"bot_presence\"], ascending=False).head(5))"
   ]
  },
  {
   "cell_type": "code",
   "execution_count": 55,
   "metadata": {},
   "outputs": [
    {
     "name": "stdout",
     "output_type": "stream",
     "text": [
      "Highest bot to human memebers in group:\n",
      "      group_id          title  bot_presence\n",
      "17         18  mission Group          0.13\n",
      "20         21   toward Group          0.19\n",
      "104       105   result Group          0.22\n",
      "28         29     sing Group          0.25\n",
      "31         32       be Group          0.30\n"
     ]
    }
   ],
   "source": [
    "group_info_df['bot_presence'] = round(group_info_df['number_of_bots'] / group_info_df['member_count'] * 100, 2) \n",
    "Lowest_bot_to_human = group_info_df[['group_id', \"title\", 'bot_presence']]\n",
    "print(\"Highest bot to human memebers in group:\\n\", highest_bot_to_human.sort_values(by=[\"bot_presence\"], ascending=True).head(5))"
   ]
  },
  {
   "cell_type": "markdown",
   "metadata": {},
   "source": [
    "### 5. Pinned Message Frequency\n",
    "**Description**: Determines the recency of pinned messages by comparing 'pinned_messages_timestamp' with the current date.\n",
    "           Helps analyze how frequently messages are pinned and whether they are recent or old.\n"
   ]
  },
  {
   "cell_type": "code",
   "execution_count": 86,
   "metadata": {},
   "outputs": [
    {
     "name": "stdout",
     "output_type": "stream",
     "text": [
      "Recent Pinned message:\n",
      "      group_id           title pinned_message_recent pinned_messages_timestamp\n",
      "95         96  national Group                Recent       2025-01-22 14:00:37\n",
      "151       152     style Group                Recent       2025-01-27 12:16:45\n",
      "162       163      once Group                Recent       2025-01-23 00:52:04\n"
     ]
    }
   ],
   "source": [
    "# Ensure the column is in datetime format\n",
    "group_info_df['pinned_messages_timestamp'] = pd.to_datetime(group_info_df['pinned_messages_timestamp'], errors='coerce')\n",
    "\n",
    "# Apply the logic\n",
    "group_info_df['pinned_message_recent'] = group_info_df['pinned_messages_timestamp'].apply(\n",
    "    lambda x: 'Recent' if pd.notna(x) and x > datetime.now() - timedelta(days=7) else 'Old'\n",
    ")\n",
    "\n",
    "group_info_timestamp_recent = group_info_df[group_info_df['pinned_message_recent'] == \"Recent\"]\n",
    "print(\"Recent Pinned message:\\n\", group_info_timestamp_recent[[\"group_id\", \"title\", \"pinned_message_recent\", \"pinned_messages_timestamp\"]].head(5))"
   ]
  },
  {
   "cell_type": "code",
   "execution_count": 89,
   "metadata": {},
   "outputs": [
    {
     "name": "stdout",
     "output_type": "stream",
     "text": [
      "     group_id           title pinned_messages_timestamp pinned_message_recent\n",
      "0           1      rich Group                       NaT                   Old\n",
      "1           2  continue Group                       NaT                   Old\n",
      "2           3     admit Group                       NaT                   Old\n",
      "3           4      thus Group                       NaT                   Old\n",
      "4           5  Congress Group                       NaT                   Old\n",
      "..        ...             ...                       ...                   ...\n",
      "195       196      case Group       2024-10-05 17:22:53                   Old\n",
      "196       197       use Group                       NaT                   Old\n",
      "197       198    source Group       2024-06-03 18:25:57                   Old\n",
      "198       199      kind Group                       NaT                   Old\n",
      "199       200   improve Group                       NaT                   Old\n",
      "\n",
      "[200 rows x 4 columns]\n"
     ]
    }
   ],
   "source": [
    "group_info_df['pinned_messages_timestamp'] = pd.to_datetime(group_info_df['pinned_messages_timestamp'], errors='coerce')\n",
    "\n",
    "# Apply the logic\n",
    "group_info_df['pinned_message_recent'] = group_info_df['pinned_messages_timestamp'].apply(\n",
    "    lambda x: 'Recent' if pd.notna(x) and x > datetime.now() - timedelta(days=7) else 'Old'\n",
    ")\n",
    "\n",
    "print(group_info_df[[\"group_id\", \"title\", 'pinned_messages_timestamp', 'pinned_message_recent']])"
   ]
  },
  {
   "cell_type": "markdown",
   "metadata": {},
   "source": [
    "### 6. Group Visibility Trends\n",
    "**Description:** Count how many groups fall under each visibility category (public, restricted, etc.) to observe trends."
   ]
  },
  {
   "cell_type": "code",
   "execution_count": 91,
   "metadata": {},
   "outputs": [
    {
     "name": "stdout",
     "output_type": "stream",
     "text": [
      "Count of group under visibility(public, restricted): visibility\n",
      "public        95\n",
      "restricted    91\n",
      "Name: count, dtype: int64\n"
     ]
    }
   ],
   "source": [
    "group_visibility_trends = group_info_df['visibility'].value_counts()\n",
    "print(\"Count of group under visibility(public, restricted):\",group_visibility_trends)"
   ]
  },
  {
   "cell_type": "markdown",
   "metadata": {},
   "source": [
    "### 7. Member Join Rate\n",
    "**Description:** Group members by their join date and calculate the average number of new members joining per day.\n"
   ]
  },
  {
   "cell_type": "code",
   "execution_count": 96,
   "metadata": {},
   "outputs": [
    {
     "name": "stdout",
     "output_type": "stream",
     "text": [
      "Average number of new memebers joining group: 34\n"
     ]
    }
   ],
   "source": [
    "member_info_df['join_date'] = pd.to_datetime(member_info_df['join_date'])\n",
    "member_join_rate = round(member_info_df.groupby(member_info_df['join_date'].dt.date).size().mean())\n",
    "print(\"Average number of new memebers joining group:\", member_join_rate)"
   ]
  },
  {
   "cell_type": "markdown",
   "metadata": {},
   "source": [
    "### 8. Role Distribution\n",
    "**Description:** Tally the number of members with each role (admin, member, moderator) to understand group governance."
   ]
  },
  {
   "cell_type": "code",
   "execution_count": 98,
   "metadata": {},
   "outputs": [
    {
     "name": "stdout",
     "output_type": "stream",
     "text": [
      "Number of memebers with each role: role\n",
      "moderator    366\n",
      "member       323\n",
      "admin        311\n",
      "Name: count, dtype: int64\n"
     ]
    }
   ],
   "source": [
    "role_distribution = member_info_df['role'].value_counts()\n",
    "print(\"Number of memebers with each role:\", role_distribution)"
   ]
  },
  {
   "cell_type": "markdown",
   "metadata": {},
   "source": [
    "### 9. Message Type Breakdown  \n",
    "**Description:** Categorizes messages based on their type (e.g., text, media, links) and counts the frequency of each category.  \n",
    "Helps analyze message composition, identify content trends, and understand user engagement patterns in groups.  "
   ]
  },
  {
   "cell_type": "code",
   "execution_count": 102,
   "metadata": {},
   "outputs": [
    {
     "name": "stdout",
     "output_type": "stream",
     "text": [
      "Types of message: message_type\n",
      "text       261\n",
      "sticker    256\n",
      "media      243\n",
      "link       240\n",
      "Name: count, dtype: int64\n"
     ]
    }
   ],
   "source": [
    "message_type_breakdown = message_info_df['message_type'].value_counts()\n",
    "print(\"Types of message:\", message_type_breakdown)"
   ]
  },
  {
   "cell_type": "markdown",
   "metadata": {},
   "source": [
    "### 10. Media Sharing Insights\n",
    "**Description:** Tracks the frequency of media-sharing messages in each group.  \n",
    "Helps analyze user engagement, identify trends in media usage, and understand the prevalence of shared media content over time. "
   ]
  },
  {
   "cell_type": "code",
   "execution_count": 146,
   "metadata": {},
   "outputs": [
    {
     "name": "stdout",
     "output_type": "stream",
     "text": [
      "Media sharing insight has_media\n",
      "False    706\n",
      "True     294\n",
      "Name: count, dtype: int64\n"
     ]
    }
   ],
   "source": [
    "message_info_df['has_media'] = message_info_df['media_links'].notnull()\n",
    "media_sharing_insights = message_info_df['has_media'].value_counts()\n",
    "print(\"Media sharing insight\", media_sharing_insights)"
   ]
  },
  {
   "cell_type": "markdown",
   "metadata": {},
   "source": [
    "### 11. Hashtag Usage Analysis\n",
    "**Description:** Detect messages that include hashtags and evaluate the usage patterns of hashtags within the group."
   ]
  },
  {
   "cell_type": "code",
   "execution_count": 106,
   "metadata": {},
   "outputs": [
    {
     "name": "stdout",
     "output_type": "stream",
     "text": [
      "Hashtag usage in messages: has_hashtags\n",
      "True    1000\n",
      "Name: count, dtype: int64\n"
     ]
    }
   ],
   "source": [
    "message_info_df['has_hashtags'] = message_info_df['hashtags'].apply(lambda x: isinstance(x, str) and bool(x.strip()))\n",
    "hashtag_usage_analysis = message_info_df['has_hashtags'].value_counts()\n",
    "print(\"Hashtag usage in messages:\", hashtag_usage_analysis)"
   ]
  },
  {
   "cell_type": "markdown",
   "metadata": {},
   "source": [
    "### 12. URL Sharing Patterns\n",
    "**Description:** Tracks the number of messages containing URLs in each group.  \n",
    "Helps analyze external content sharing behavior, identify frequently shared links, and understand engagement trends with external resources.  "
   ]
  },
  {
   "cell_type": "code",
   "execution_count": 107,
   "metadata": {},
   "outputs": [
    {
     "name": "stdout",
     "output_type": "stream",
     "text": [
      "Number of url sharing: has_urls\n",
      "True    1000\n",
      "Name: count, dtype: int64\n"
     ]
    }
   ],
   "source": [
    "message_info_df['has_urls'] = message_info_df['urls'].notnull()\n",
    "url_sharing_patterns = message_info_df['has_urls'].value_counts()\n",
    "print(\"Number of url sharing:\", url_sharing_patterns)"
   ]
  },
  {
   "cell_type": "markdown",
   "metadata": {},
   "source": [
    "### 13. Message Interaction Metrics\n",
    "**Description:** Tracks the total number of replies, views, and forwards for each message.  \n",
    "Helps measure engagement levels, identify highly interactive messages, and analyze user interaction trends within groups. "
   ]
  },
  {
   "cell_type": "code",
   "execution_count": 111,
   "metadata": {},
   "outputs": [
    {
     "name": "stdout",
     "output_type": "stream",
     "text": [
      "Message intersection:\n",
      " replies                 24234\n",
      "views                 2455978\n",
      "forwards               100398\n",
      "total_interactions    2580610\n",
      "dtype: int64\n"
     ]
    }
   ],
   "source": [
    "message_info_df['total_interactions'] = message_info_df['replies'] + message_info_df['views'] + message_info_df['forwards']\n",
    "message_interaction_metrics = message_info_df[['replies', 'views', 'forwards', 'total_interactions']].sum()\n",
    "print(\"Message intersection:\\n\",message_interaction_metrics)"
   ]
  },
  {
   "cell_type": "markdown",
   "metadata": {},
   "source": [
    "### 14. Active User Identification\n",
    "**Description:** Tracks the number of messages sent by each user to identify the most active participants.  \n",
    "Helps analyze user engagement, recognize key contributors, and understand participation trends within the group.  "
   ]
  },
  {
   "cell_type": "code",
   "execution_count": 117,
   "metadata": {},
   "outputs": [
    {
     "name": "stdout",
     "output_type": "stream",
     "text": [
      "Active user identification sender_id\n",
      "641    5\n",
      "332    5\n",
      "572    5\n",
      "842    4\n",
      "139    4\n",
      "628    4\n",
      "949    4\n",
      "795    4\n",
      "237    4\n",
      "51     4\n",
      "Name: count, dtype: int64\n"
     ]
    }
   ],
   "source": [
    "active_user_identification = message_info_df['sender_id'].value_counts().sort_values(ascending=False)\n",
    "print(\"Active user identification\",  active_user_identification.head(10))"
   ]
  },
  {
   "cell_type": "markdown",
   "metadata": {},
   "source": [
    "### 15. Group Engagement Score\n",
    "**Description:** Calculates a composite score by combining and weighing different interaction metrics (replies, views, forwards) for messages within each group.  \n",
    "Helps assess overall group engagement, identify periods of high or low activity, and measure the effectiveness of group interactions."
   ]
  },
  {
   "cell_type": "code",
   "execution_count": 123,
   "metadata": {},
   "outputs": [
    {
     "name": "stdout",
     "output_type": "stream",
     "text": [
      "Group Engagement score: group_id\n",
      "46     10800.2\n",
      "109    10655.2\n",
      "82      9010.2\n",
      "176     8909.5\n",
      "71      8670.7\n",
      "89      8543.1\n",
      "108     8377.4\n",
      "192     8269.9\n",
      "158     8166.3\n",
      "163     8083.9\n",
      "Name: engagement_score, dtype: float64\n"
     ]
    }
   ],
   "source": [
    "message_info_df['engagement_score'] = message_info_df['replies'] * 0.5 + message_info_df['views'] * 0.3 + message_info_df['forwards'] * 0.2\n",
    "group_engagement_score = message_info_df.groupby('group_id')['engagement_score'].sum()\n",
    "print(\"Group Engagement score:\", group_engagement_score.sort_values(ascending=False).head(10))"
   ]
  },
  {
   "cell_type": "markdown",
   "metadata": {},
   "source": [
    "### 16. Message Sent by Admins\n",
    "**Description:** Measures the number of messages sent by group admins within a given time period. This helps understand the level of admin engagement and their role in moderating or managing the group. If admins are less active in communication, it might indicate issues with management or a need for intervention."
   ]
  },
  {
   "cell_type": "code",
   "execution_count": 144,
   "metadata": {},
   "outputs": [
    {
     "name": "stdout",
     "output_type": "stream",
     "text": [
      "Messages sent by admin: group_id_message\n",
      "48     2\n",
      "33     2\n",
      "20     2\n",
      "156    2\n",
      "122    2\n",
      "112    2\n",
      "96     2\n",
      "17     1\n",
      "8      1\n",
      "1      1\n",
      "Name: message_id, dtype: int64\n"
     ]
    }
   ],
   "source": [
    "end_date = pd.to_datetime('2025-01-05')\n",
    "start_date = end_date - pd.DateOffset(days=90)\n",
    "\n",
    "admins = member_info_df[member_info_df['role'] == 'admin']\n",
    "\n",
    "df_admin_messages = pd.merge(message_info_df, admins, how='inner', left_on='sender_id', right_on='user_id', suffixes=('_message', '_member'))\n",
    "\n",
    "df_admin_messages_filtered = df_admin_messages[(df_admin_messages['timestamp'] >= start_date) &\n",
    "                                               (df_admin_messages['timestamp'] <= end_date)]\n",
    "\n",
    "messages_sent_by_admins = df_admin_messages_filtered.groupby('group_id_message')['message_id'].count()\n",
    "\n",
    "print(\"Messages sent by admin:\",messages_sent_by_admins.sort_values(ascending=False).head(10))"
   ]
  },
  {
   "cell_type": "markdown",
   "metadata": {},
   "source": [
    "### 17. Member Lifespan  \n",
    "**Description:** Calculates the time span from the join date to the current date for each member.  \n",
    "Helps determine the average membership duration, track member retention, and analyze group activity over time."
   ]
  },
  {
   "cell_type": "code",
   "execution_count": 126,
   "metadata": {},
   "outputs": [
    {
     "name": "stdout",
     "output_type": "stream",
     "text": [
      "Member lifespan in group: 13.71\n"
     ]
    }
   ],
   "source": [
    "member_info_df['lifespan_days'] = (datetime.now() - member_info_df['join_date']).dt.days\n",
    "member_lifespan = round(member_info_df['lifespan_days'].mean(), 2)\n",
    "print(\"Member lifespan in group:\", member_lifespan)"
   ]
  },
  {
   "cell_type": "markdown",
   "metadata": {},
   "source": [
    "### 18. Cross-Group Activity\n",
    "**Description:** Identifies users who are members of multiple groups and counts how many groups they are active in.  \n",
    "Helps analyze user participation across different groups, identify highly engaged members, and track activity patterns across multiple communities."
   ]
  },
  {
   "cell_type": "code",
   "execution_count": 128,
   "metadata": {},
   "outputs": [
    {
     "name": "stdout",
     "output_type": "stream",
     "text": [
      "Cross group memeber activity user_id\n",
      "1       1\n",
      "2       1\n",
      "3       1\n",
      "4       1\n",
      "5       1\n",
      "       ..\n",
      "996     1\n",
      "997     1\n",
      "998     1\n",
      "999     1\n",
      "1000    1\n",
      "Name: group_id, Length: 1000, dtype: int64\n"
     ]
    }
   ],
   "source": [
    "cross_group_activity = member_info_df.groupby('user_id')['group_id'].nunique()\n",
    "print(\"Cross group memeber activity\", cross_group_activity)"
   ]
  },
  {
   "cell_type": "markdown",
   "metadata": {},
   "source": [
    "### 19. Peak Activity Times\n",
    "**Description:** Extracts the hour from each message's timestamp and identifies the hour with the highest message frequency.  \n",
    "Helps analyze when users are most active, track peak engagement periods, and understand activity patterns throughout the day.  \n"
   ]
  },
  {
   "cell_type": "code",
   "execution_count": 129,
   "metadata": {},
   "outputs": [
    {
     "name": "stdout",
     "output_type": "stream",
     "text": [
      "Peak activity time: 18\n"
     ]
    }
   ],
   "source": [
    "message_info_df['timestamp'] = pd.to_datetime(message_info_df['timestamp'], errors='coerce')\n",
    "message_info_df['hour_of_day'] = message_info_df['timestamp'].dt.hour\n",
    "peak_activity_times = message_info_df['hour_of_day'].value_counts().idxmax()\n",
    "print(\"Peak activity time:\", peak_activity_times)"
   ]
  },
  {
   "cell_type": "markdown",
   "metadata": {},
   "source": [
    "### 20. Message Impact Score\n",
    "**Description:** Calculates an impact score for each message by combining and weighting the number of views, replies, and forwards it has received.  \n",
    "Helps measure the effectiveness and reach of individual messages, identify high-impact content, and analyze engagement levels within the group. "
   ]
  },
  {
   "cell_type": "code",
   "execution_count": 135,
   "metadata": {},
   "outputs": [
    {
     "name": "stdout",
     "output_type": "stream",
     "text": [
      "Impact score of each message: 910    3011.0\n",
      "236    3008.0\n",
      "291    3005.0\n",
      "172    3003.0\n",
      "490    3001.0\n",
      "        ...  \n",
      "320      35.0\n",
      "366      34.0\n",
      "524      19.0\n",
      "780      14.0\n",
      "659       6.0\n",
      "Name: impact_score, Length: 1000, dtype: float64\n"
     ]
    }
   ],
   "source": [
    "message_info_df['impact_score'] = message_info_df['views'] * 0.6 + message_info_df['replies'] * 0.3 + message_info_df['forwards'] * 0.1\n",
    "print(\"Impact score of each message:\", message_info_df['impact_score'].round().sort_values(ascending=False))"
   ]
  }
 ],
 "metadata": {
  "kernelspec": {
   "display_name": "Python 3",
   "language": "python",
   "name": "python3"
  },
  "language_info": {
   "codemirror_mode": {
    "name": "ipython",
    "version": 3
   },
   "file_extension": ".py",
   "mimetype": "text/x-python",
   "name": "python",
   "nbconvert_exporter": "python",
   "pygments_lexer": "ipython3",
   "version": "3.10.7"
  }
 },
 "nbformat": 4,
 "nbformat_minor": 2
}
